{
 "cells": [
  {
   "cell_type": "code",
   "execution_count": null,
   "metadata": {},
   "outputs": [],
   "source": [
    "import numpy as np\n",
    "import matplotlib.pyplot as plt\n",
    "from scipy.optimize import curve_fit"
   ]
  },
  {
   "cell_type": "markdown",
   "metadata": {},
   "source": [
    "# Mesure température\n",
    "\n",
    "## 1. Mesures temporelles - température d'un corps en contact avec un thermostat\n",
    "\n",
    "Lorsque l'utilisateur clique sur le bouton `Mesure` le programme :\n",
    " - envoie la commande `mesure` à la carte _Arduino_,\n",
    " - reçoit des données sur la liaison série et les affiche sous forme de graphe $T=f(t)$."
   ]
  },
  {
   "cell_type": "code",
   "execution_count": null,
   "metadata": {
    "tags": []
   },
   "outputs": [],
   "source": [
    "from web_sciences import WebSciences\n",
    "\n",
    "my_init = '''\n",
    "mode = \"temporel\";\n",
    "var commandes = [{texte_bouton:\"Mesure\", arduino:\"mesure\"}];\n",
    "series = [{grandeur: \"T\", unite: \"°C\"}];\n",
    "titre_graphe = \"Evolution de la température d'un système au contact d'un thermostat\";\n",
    "axes = [{grandeur: \"t\", unite: \"ms\"}, {grandeur: \"T\", unite: \"°C\"}];\n",
    "'''\n",
    "\n",
    "interface = WebSciences(my_init)\n",
    "interface.affiche()"
   ]
  },
  {
   "cell_type": "markdown",
   "metadata": {},
   "source": [
    "## 2. Représentation graphique des données"
   ]
  },
  {
   "cell_type": "code",
   "execution_count": null,
   "metadata": {
    "tags": []
   },
   "outputs": [],
   "source": [
    "# mesures obtenues\n",
    "# copier ci-dessous les tableaux de valeurs donnés par le notebook ultrasons_mesures\n",
    "\n",
    "t = [0, 8000, 16000, 24000, 32000, 40000, 48000, 56000, 64000, 72000, 80000, \n",
    "88000, 96000, 104000, 112000, 120000, 128000, 136000, 144000, 152000, \n",
    "160000, 168000, 176000, 184000, 192000, 200000, 208000, 216000, \n",
    "224000, 232000, 240000, 248000, 256000, 264000, 272000, 280000, 288000, \n",
    "296000, 304000, 312000, 320000, 328000, 336000, 344000, 352000, \n",
    "360000, 368000, 376000, 384000, 392000, 400000]\n",
    "T = [50.0, 46.9, 44.3, 42.2, 40.1, 38.5, 36.7, 35.0, 33.8, 32.6, 31.5, \n",
    "30.5, 29.6, 28.8, 28.1, 27.5, 26.9, 26.4, 25.8, 25.3, 25.0, 24.6, 24.3, \n",
    "24.0, 23.7, 23.5, 23.3, 23.1, 22.9, 22.7, 22.5, 22.4, 22.2, 22.1, \n",
    "21.9, 21.8, 21.7, 21.6, 21.5, 21.5, 21.4, 21.3, 21.2, 21.2, 21.1, 21.1, \n",
    "21.0, 21.0, 20.9, 20.9, 20.9]\n",
    "\n",
    "\n",
    "# transformation de t en secondes et des tableaux en np.array\n",
    "t = np.array([temps * 1e-3 for temps in t])\n",
    "T = np.array(T)\n",
    "fig_c = plt.figure(\"Evolution de la température\", figsize=(9, 6))\n",
    "plt.plot(t, T, linestyle='', marker ='o', color ='orange')\n",
    "plt.grid()\n",
    "plt.xlabel('t (s)')\n",
    "plt.ylabel ('T °C')\n",
    "plt.show()"
   ]
  },
  {
   "cell_type": "markdown",
   "metadata": {},
   "source": [
    "## 3. Mesure de $\\tau$"
   ]
  },
  {
   "cell_type": "markdown",
   "metadata": {},
   "source": [
    "### Ajustement à une exponentielle"
   ]
  },
  {
   "cell_type": "code",
   "execution_count": null,
   "metadata": {
    "tags": []
   },
   "outputs": [],
   "source": [
    "def fonct_ajust(t, A, B, τ):\n",
    "    return A + B * np.exp(-t/τ)\n",
    "    # return a * 1/t + b\n",
    "\n",
    "init_vals = [22, 50, 120]\n",
    "popt, pcov = curve_fit(fonct_ajust, t, T, p0=init_vals)\n",
    "print(popt)\n",
    "print(f'La valeur de τ est {popt[2]:.2f} s' )"
   ]
  },
  {
   "cell_type": "code",
   "execution_count": null,
   "metadata": {
    "tags": []
   },
   "outputs": [],
   "source": [
    "#  Graphe et modélisation\n",
    "fig = plt.figure('Evolution de la température', figsize=(9, 6))\n",
    "ax = fig.add_subplot(1, 1, 1)\n",
    "ax.set_title(\"Evolution de la température d'un système au contact d'un thermostat\", fontsize=16)\n",
    "ax.plot(t, T, linestyle='', marker ='o', color ='royalblue', label='courbe mesurée $T=f(t)$')\n",
    "ax.plot(t, fonct_ajust(t, *popt), linestyle='--', color='orange',\n",
    "        label = 'courbe ajustée $T = A + B \\\\times e^{-t / \\\\tau}$')\n",
    "ax.plot(t, [popt[0] for e in t],linestyle='--',color = 'green',label = 'température du thermostat')\n",
    "ax.set_xlabel('t (s)', fontsize=14)\n",
    "ax.set_ylabel ('T (°C)', fontsize=14)\n",
    "#ax.set_xlim([0, max(t)*1.05])\n",
    "#ax.set_ylim([-0.5, max(T)*1.05])\n",
    "ax.legend(fontsize=14)\n",
    "ax.set_frame_on(False) \n",
    "ax.grid()\n",
    "plt.show()"
   ]
  },
  {
   "cell_type": "code",
   "execution_count": null,
   "metadata": {},
   "outputs": [],
   "source": []
  }
 ],
 "metadata": {
  "kernelspec": {
   "display_name": "Python 3",
   "language": "python",
   "name": "python3"
  },
  "language_info": {
   "codemirror_mode": {
    "name": "ipython",
    "version": 3
   },
   "file_extension": ".py",
   "mimetype": "text/x-python",
   "name": "python",
   "nbconvert_exporter": "python",
   "pygments_lexer": "ipython3",
   "version": "3.7.3"
  },
  "widgets": {
   "application/vnd.jupyter.widget-state+json": {
    "state": {},
    "version_major": 2,
    "version_minor": 0
   }
  }
 },
 "nbformat": 4,
 "nbformat_minor": 4
}
