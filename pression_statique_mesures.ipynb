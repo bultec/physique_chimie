{
 "cells": [
  {
   "cell_type": "markdown",
   "id": "cd2257ee",
   "metadata": {},
   "source": [
    "# Pression statique - Mesures"
   ]
  },
  {
   "cell_type": "code",
   "execution_count": null,
   "id": "8977defd",
   "metadata": {
    "tags": []
   },
   "outputs": [],
   "source": [
    "from pduino import *\n",
    "liste_ports()"
   ]
  },
  {
   "cell_type": "markdown",
   "id": "b1c33acb-c20d-4990-adf1-e13a59b11210",
   "metadata": {},
   "source": [
    "## Etalonnage  du capteur"
   ]
  },
  {
   "cell_type": "code",
   "execution_count": 1,
   "id": "104a59ea",
   "metadata": {
    "tags": []
   },
   "outputs": [
    {
     "data": {
      "application/vnd.jupyter.widget-view+json": {
       "model_id": "c9cc8b040c8f42bd834511e1ef72183f",
       "version_major": 2,
       "version_minor": 0
      },
      "text/plain": [
       "VBox(children=(HBox(children=(Button(button_style='danger', description='Arduino', style=ButtonStyle()), Text(…"
      ]
     },
     "metadata": {},
     "output_type": "display_data"
    }
   ],
   "source": [
    "# --- Etalonnage du capteur - Pression statique\n",
    "from pduino import *\n",
    "from juduino import *\n",
    "\n",
    "# modifiez le port en fonction de votre configuration\n",
    "port = 'COM4'\n",
    "\n",
    "my_interface = Interface(port, [('P', 'hPa'), ('h', 'm')], 'points')\n",
    "\n",
    "def acquisition():\n",
    "    # exécuté lorsque l'utilisateur clique sur le bouton 'Mesure'\n",
    "    P = calcule_pression(float(my_interface.set_command('mesure')))\n",
    "    print('P = {:.2f} hPa'.format(P))\n",
    "\n",
    "def calcule_pression(b):\n",
    "    k = float(valeur_k.value)\n",
    "    uref = 5.0;\n",
    "    uref_CAN = 1.1\n",
    "    u = b / 1023 * uref_CAN;\n",
    "    # valeur à modifier éventuellement\n",
    "    p = (u-k)*7000 / (uref-k);\n",
    "    p = round(p, 2)\n",
    "    return p\n",
    "\n",
    "# --- programme principal\n",
    "valeur_k = my_interface.add_saisie('Valeur de k', '0.114')\n",
    "my_interface.add_bouton('Mesure', acquisition)\n",
    "my_interface.affiche()"
   ]
  },
  {
   "cell_type": "markdown",
   "id": "9e6fbe3a",
   "metadata": {},
   "source": [
    "## Mesures des points couples de points (h, P)"
   ]
  },
  {
   "cell_type": "code",
   "execution_count": 3,
   "id": "31a16170",
   "metadata": {
    "tags": []
   },
   "outputs": [
    {
     "data": {
      "application/vnd.jupyter.widget-view+json": {
       "model_id": "e2a10f95e7b04bf4a66d484267e90621",
       "version_major": 2,
       "version_minor": 0
      },
      "text/plain": [
       "HBox(children=(Text(value='', description='P (hPa)'), Label(value='')))"
      ]
     },
     "metadata": {},
     "output_type": "display_data"
    },
    {
     "data": {
      "application/vnd.jupyter.widget-view+json": {
       "model_id": "1455c110543248ce97c191a721d3e99f",
       "version_major": 2,
       "version_minor": 0
      },
      "text/plain": [
       "VBox(children=(HBox(children=(Button(button_style='danger', description='Arduino', style=ButtonStyle()), Text(…"
      ]
     },
     "metadata": {},
     "output_type": "display_data"
    }
   ],
   "source": [
    "# --- mesures ponctuelles - Pression statique\n",
    "import threading\n",
    "import ipywidgets as widgets\n",
    "import time\n",
    "\n",
    "my_int_ponctuel = Interface(port, [('P', 'hPa'), ('h', 'm')], 'points')    \n",
    "thread = None\n",
    "arreter_thread = False\n",
    "\n",
    "def mon_thread():\n",
    "    car = '...'\n",
    "    while not arreter_thread:\n",
    "        data = my_int_ponctuel.arduino.arduino.readline()\n",
    "        if data != '':\n",
    "            mesure = data.decode()[:-2]\n",
    "            try:\n",
    "                P = calcule_pression(float(mesure))\n",
    "                texte_pression.value = str(P)\n",
    "                if X.value == car:\n",
    "                    X.value = ''\n",
    "                else:\n",
    "                    X.value = car\n",
    "            except:\n",
    "                pass\n",
    "\n",
    "def disable_boutons(B):\n",
    "    if B:\n",
    "        bouton_temps_reel.button_style = 'info'\n",
    "    else:\n",
    "        bouton_temps_reel.button_style = ''\n",
    "        X.value = ''\n",
    "        \n",
    "def temps_reel():\n",
    "    global thread, arreter_thread\n",
    "    if thread is None:\n",
    "        while my_int_ponctuel.arduino.arduino.readline().decode() != '' : {}\n",
    "        thread = threading.Thread(target=mon_thread)\n",
    "        arreter_thread = False \n",
    "        thread.start()\n",
    "        my_int_ponctuel.arduino.arduino.write('{}'.format('mesure_regulier').encode())\n",
    "        disable_boutons(True)\n",
    "    else:\n",
    "        arreter_thread = True\n",
    "        thread.join()\n",
    "        my_int_ponctuel.arduino.arduino.write('{}'.format('stop').encode())\n",
    "        arreter_thread = False\n",
    "        thread = None\n",
    "        disable_boutons(False)\n",
    "    \n",
    "def acquisition_pression():\n",
    "    # exécuté lorsque l'utilisateur clique sur le bouton 'Mesure'\n",
    "    h = float(saisie_h.value)\n",
    "    P = float(texte_pression.value)\n",
    "    print('h = {:.1f} cm ; P = {:.2f} hPa'.format(h, P))\n",
    "    my_int_ponctuel.ajoute_point(h, P)\n",
    "    \n",
    "def supp_dernier_point():\n",
    "    # exécuté lorsque l'utilisateur clique sur le bouton 'Supp dernier point'\n",
    "    if my_int_ponctuel.supprime_dernier_point():\n",
    "        print(\"Dernier point supprimé\")\n",
    "    else:\n",
    "        print('Pas de dernier point')\n",
    "    \n",
    "def tableaux():\n",
    "    # exécuté lorsque l'utilisateur clique sur le bouton 'Tableaux'\n",
    "    H, P = my_int_ponctuel.get_valeurs()\n",
    "    n = 40\n",
    "    if len(H) != 0:\n",
    "        print(liste_valeurs('H', H, n))\n",
    "        print(liste_valeurs('P', P, n))     \n",
    "    else:\n",
    "        print('Pas de mesures')\n",
    "    \n",
    "# --- programme principal\n",
    "texte_pression, X = widgets.Text(value='', description='P (hPa)'), widgets.Label(value='')\n",
    "display(widgets.HBox([texte_pression, X]))\n",
    "saisie_h = my_int_ponctuel.add_saisie('h (cm)', '0')\n",
    "bouton_temps_reel = my_int_ponctuel.add_bouton('Mesures', temps_reel)\n",
    "bouton_mesure = my_int_ponctuel.add_bouton('Ajout point', acquisition_pression)\n",
    "bouton_supp = my_int_ponctuel.add_bouton('Supp. dernier point', supp_dernier_point)\n",
    "bouton_tableau = my_int_ponctuel.add_bouton('Tableaux', tableaux)\n",
    "my_int_ponctuel.affiche()"
   ]
  },
  {
   "cell_type": "code",
   "execution_count": null,
   "id": "14042610",
   "metadata": {},
   "outputs": [],
   "source": []
  }
 ],
 "metadata": {
  "kernelspec": {
   "display_name": "Python 3",
   "language": "python",
   "name": "python3"
  },
  "language_info": {
   "codemirror_mode": {
    "name": "ipython",
    "version": 3
   },
   "file_extension": ".py",
   "mimetype": "text/x-python",
   "name": "python",
   "nbconvert_exporter": "python",
   "pygments_lexer": "ipython3",
   "version": "3.7.3"
  },
  "widgets": {
   "application/vnd.jupyter.widget-state+json": {
    "state": {
     "0076a65081cd45de831349314ce50958": {
      "model_module": "@jupyter-widgets/controls",
      "model_module_version": "2.0.0",
      "model_name": "HBoxModel",
      "state": {
       "children": [
        "IPY_MODEL_dbcd339ecacb4efa903444d60bc7f91e",
        "IPY_MODEL_2def547b52f747b38677946ce402feb6",
        "IPY_MODEL_620e87aaca074edb9ff8030cdbeb7617",
        "IPY_MODEL_a2fc932dc4b64821b0ab090cd6d61207",
        "IPY_MODEL_6a450bf47aab4173a8c2291ef28c6b9d",
        "IPY_MODEL_8b355c3c307a4e57aa604344ae88ba67"
       ],
       "layout": "IPY_MODEL_9636fb413ad240c5be9af426cf7f586d"
      }
     },
     "113fddad7a544c86a2ede90fbf8b006a": {
      "model_module": "@jupyter-widgets/base",
      "model_module_version": "2.0.0",
      "model_name": "LayoutModel",
      "state": {}
     },
     "1584d8cb76914e64b9a576727243c958": {
      "model_module": "@jupyter-widgets/base",
      "model_module_version": "2.0.0",
      "model_name": "LayoutModel",
      "state": {
       "width": "200px"
      }
     },
     "1ae9a875024a46479e1988d2e4b5968a": {
      "model_module": "@jupyter-widgets/controls",
      "model_module_version": "2.0.0",
      "model_name": "VBoxModel",
      "state": {
       "children": [
        "IPY_MODEL_0076a65081cd45de831349314ce50958",
        "IPY_MODEL_5874b26391564c2ea60677bff5cd7510"
       ],
       "layout": "IPY_MODEL_c381663b7fb7443db37b32ee5ad41b23"
      }
     },
     "1d1ab9af98714fac99822c52301c28c6": {
      "model_module": "@jupyter-widgets/controls",
      "model_module_version": "2.0.0",
      "model_name": "TextStyleModel",
      "state": {
       "description_width": "initial",
       "font_size": null,
       "text_color": null
      }
     },
     "1d877519390b42a3b8067e74204d57ef": {
      "model_module": "@jupyter-widgets/output",
      "model_module_version": "1.0.0",
      "model_name": "OutputModel",
      "state": {
       "layout": "IPY_MODEL_45cf44339a024917bf6ed8c000c4f72c"
      }
     },
     "22db57bcd40c45ecb4389cedfb677600": {
      "model_module": "@jupyter-widgets/controls",
      "model_module_version": "2.0.0",
      "model_name": "ButtonStyleModel",
      "state": {
       "font_family": null,
       "font_size": null,
       "font_style": null,
       "font_variant": null,
       "font_weight": null,
       "text_color": null,
       "text_decoration": null
      }
     },
     "28b457d21f9145f38a8739e23c606b12": {
      "model_module": "@jupyter-widgets/controls",
      "model_module_version": "2.0.0",
      "model_name": "ButtonStyleModel",
      "state": {
       "font_family": null,
       "font_size": null,
       "font_style": null,
       "font_variant": null,
       "font_weight": null,
       "text_color": null,
       "text_decoration": null
      }
     },
     "2def547b52f747b38677946ce402feb6": {
      "model_module": "@jupyter-widgets/controls",
      "model_module_version": "2.0.0",
      "model_name": "TextModel",
      "state": {
       "description": "V (mL)",
       "layout": "IPY_MODEL_1584d8cb76914e64b9a576727243c958",
       "style": "IPY_MODEL_1d1ab9af98714fac99822c52301c28c6",
       "value": "60"
      }
     },
     "3ce793e411634220933b1e102bc855f4": {
      "model_module": "@jupyter-widgets/controls",
      "model_module_version": "2.0.0",
      "model_name": "TextStyleModel",
      "state": {
       "description_width": "initial",
       "font_size": null,
       "text_color": null
      }
     },
     "45cf44339a024917bf6ed8c000c4f72c": {
      "model_module": "@jupyter-widgets/base",
      "model_module_version": "2.0.0",
      "model_name": "LayoutModel",
      "state": {
       "margin": "20px 0 0 20px"
      }
     },
     "4b4e0b02976446949cec3ef51af962f6": {
      "model_module": "@jupyter-widgets/base",
      "model_module_version": "2.0.0",
      "model_name": "LayoutModel",
      "state": {}
     },
     "4f23eb6696dc48e3bd85af6d036e5627": {
      "model_module": "@jupyter-widgets/output",
      "model_module_version": "1.0.0",
      "model_name": "OutputModel",
      "state": {
       "layout": "IPY_MODEL_4b4e0b02976446949cec3ef51af962f6"
      }
     },
     "4fe11ac8f57c4a05980bfffc68a5f2b7": {
      "model_module": "@jupyter-widgets/controls",
      "model_module_version": "2.0.0",
      "model_name": "ButtonStyleModel",
      "state": {
       "font_family": null,
       "font_size": null,
       "font_style": null,
       "font_variant": null,
       "font_weight": null,
       "text_color": null,
       "text_decoration": null
      }
     },
     "5874b26391564c2ea60677bff5cd7510": {
      "model_module": "@jupyter-widgets/controls",
      "model_module_version": "2.0.0",
      "model_name": "HBoxModel",
      "state": {
       "children": [
        "IPY_MODEL_4f23eb6696dc48e3bd85af6d036e5627",
        "IPY_MODEL_1d877519390b42a3b8067e74204d57ef"
       ],
       "layout": "IPY_MODEL_9c5908bb4dd04bb0ae651db2653263bc"
      }
     },
     "620e87aaca074edb9ff8030cdbeb7617": {
      "model_module": "@jupyter-widgets/controls",
      "model_module_version": "2.0.0",
      "model_name": "ButtonModel",
      "state": {
       "description": "Mesure",
       "layout": "IPY_MODEL_d5a07cd1bee84e45adfd133345e88b96",
       "style": "IPY_MODEL_9b7fe17060614c2a90fabbadaf00b7d7",
       "tooltip": null
      }
     },
     "6a450bf47aab4173a8c2291ef28c6b9d": {
      "model_module": "@jupyter-widgets/controls",
      "model_module_version": "2.0.0",
      "model_name": "TextModel",
      "state": {
       "description": "Nom fichier",
       "layout": "IPY_MODEL_83dc627ba3ef4659ae8e5ba1163f9c11",
       "style": "IPY_MODEL_3ce793e411634220933b1e102bc855f4",
       "value": "mesures"
      }
     },
     "8369bebfa5ed452490918132548a803f": {
      "model_module": "@jupyter-widgets/controls",
      "model_module_version": "2.0.0",
      "model_name": "ProgressStyleModel",
      "state": {
       "description_width": ""
      }
     },
     "83dc627ba3ef4659ae8e5ba1163f9c11": {
      "model_module": "@jupyter-widgets/base",
      "model_module_version": "2.0.0",
      "model_name": "LayoutModel",
      "state": {
       "width": "200px"
      }
     },
     "8b355c3c307a4e57aa604344ae88ba67": {
      "model_module": "@jupyter-widgets/controls",
      "model_module_version": "2.0.0",
      "model_name": "ButtonModel",
      "state": {
       "description": "Sauvegarde",
       "layout": "IPY_MODEL_cd791f37c86c4644aa3fe50349081875",
       "style": "IPY_MODEL_28b457d21f9145f38a8739e23c606b12",
       "tooltip": null
      }
     },
     "9636fb413ad240c5be9af426cf7f586d": {
      "model_module": "@jupyter-widgets/base",
      "model_module_version": "2.0.0",
      "model_name": "LayoutModel",
      "state": {}
     },
     "9b7fe17060614c2a90fabbadaf00b7d7": {
      "model_module": "@jupyter-widgets/controls",
      "model_module_version": "2.0.0",
      "model_name": "ButtonStyleModel",
      "state": {
       "font_family": null,
       "font_size": null,
       "font_style": null,
       "font_variant": null,
       "font_weight": null,
       "text_color": null,
       "text_decoration": null
      }
     },
     "9c5908bb4dd04bb0ae651db2653263bc": {
      "model_module": "@jupyter-widgets/base",
      "model_module_version": "2.0.0",
      "model_name": "LayoutModel",
      "state": {}
     },
     "a2fc932dc4b64821b0ab090cd6d61207": {
      "model_module": "@jupyter-widgets/controls",
      "model_module_version": "2.0.0",
      "model_name": "ButtonModel",
      "state": {
       "description": "Supp. dernier point",
       "layout": "IPY_MODEL_d76db7c02b2e4b42808e7a10c48fcb7b",
       "style": "IPY_MODEL_4fe11ac8f57c4a05980bfffc68a5f2b7",
       "tooltip": null
      }
     },
     "b1791be4d1d444278cb3a82c17da275d": {
      "model_module": "@jupyter-widgets/base",
      "model_module_version": "2.0.0",
      "model_name": "LayoutModel",
      "state": {}
     },
     "c06733298eeb4a28a3220e719241ebd9": {
      "model_module": "@jupyter-widgets/controls",
      "model_module_version": "2.0.0",
      "model_name": "IntProgressModel",
      "state": {
       "description": "Loading:",
       "layout": "IPY_MODEL_113fddad7a544c86a2ede90fbf8b006a",
       "max": 10,
       "style": "IPY_MODEL_8369bebfa5ed452490918132548a803f"
      }
     },
     "c381663b7fb7443db37b32ee5ad41b23": {
      "model_module": "@jupyter-widgets/base",
      "model_module_version": "2.0.0",
      "model_name": "LayoutModel",
      "state": {}
     },
     "cd791f37c86c4644aa3fe50349081875": {
      "model_module": "@jupyter-widgets/base",
      "model_module_version": "2.0.0",
      "model_name": "LayoutModel",
      "state": {}
     },
     "d5a07cd1bee84e45adfd133345e88b96": {
      "model_module": "@jupyter-widgets/base",
      "model_module_version": "2.0.0",
      "model_name": "LayoutModel",
      "state": {}
     },
     "d76db7c02b2e4b42808e7a10c48fcb7b": {
      "model_module": "@jupyter-widgets/base",
      "model_module_version": "2.0.0",
      "model_name": "LayoutModel",
      "state": {}
     },
     "dbcd339ecacb4efa903444d60bc7f91e": {
      "model_module": "@jupyter-widgets/controls",
      "model_module_version": "2.0.0",
      "model_name": "ButtonModel",
      "state": {
       "button_style": "danger",
       "description": "Arduino",
       "layout": "IPY_MODEL_b1791be4d1d444278cb3a82c17da275d",
       "style": "IPY_MODEL_22db57bcd40c45ecb4389cedfb677600",
       "tooltip": null
      }
     }
    },
    "version_major": 2,
    "version_minor": 0
   }
  }
 },
 "nbformat": 4,
 "nbformat_minor": 5
}
