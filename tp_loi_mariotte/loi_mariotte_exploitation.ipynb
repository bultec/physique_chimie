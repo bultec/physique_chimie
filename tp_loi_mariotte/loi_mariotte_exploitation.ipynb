{
 "cells": [
  {
   "cell_type": "markdown",
   "metadata": {
    "slideshow": {
     "slide_type": "slide"
    }
   },
   "source": [
    "# Loi de Mariotte\n",
    "\n",
    "\n",
    "## Problématique\n",
    "Quel est le comportement d’un gaz lorsque sa pression ou son volume varient ?\n",
    "\n",
    "\n",
    "## Objectifs\n",
    "Les gaz sont compressibles, c'est-à-dire que le volume d'une quantité de matière de gaz donnée varie quand sa pression varie.\n",
    "\n",
    "L'objectif du TP consiste à établir la loi qui relie la pression `P` et le volume `V` d'un gaz."
   ]
  },
  {
   "cell_type": "markdown",
   "metadata": {
    "slideshow": {
     "slide_type": "slide"
    }
   },
   "source": [
    "## Programme"
   ]
  },
  {
   "cell_type": "code",
   "execution_count": null,
   "metadata": {},
   "outputs": [],
   "source": [
    "# Importation des biblothèques et initialisations\n",
    "\n",
    "from IPython.display import display, Math\n",
    "import matplotlib.pyplot as plt\n",
    "from scipy.stats import linregress\n",
    "\n",
    "# mesures obtenues\n",
    "# copier ci-dessous les tableaux de valeurs donnés par le notebook loi_mariotte_mesures\n",
    "...\n",
    "\n",
    "# V en m3\n",
    "V = [v * ... for v in V]\n",
    "# P en Pa\n",
    "P = [p * ...for p in P]\n",
    "# calcul de 1/V\n",
    "inv_V = [... for v in V]"
   ]
  },
  {
   "cell_type": "code",
   "execution_count": null,
   "metadata": {
    "tags": []
   },
   "outputs": [],
   "source": [
    "# calcul des incertitudes de type B\n",
    "# u(V) = ... mL\n",
    "U_V = [... for v in V]\n",
    "# u(P) = ... % * P\n",
    "U_P = [... for p in P]\n",
    "# u(1/V) = 1/V**2 * uV                         \n",
    "U_invV = [... for v, uv in zip(V, U_V)]    "
   ]
  },
  {
   "cell_type": "code",
   "execution_count": null,
   "metadata": {
    "slideshow": {
     "slide_type": "-"
    },
    "tags": []
   },
   "outputs": [],
   "source": [
    "# paramétrage du graphique\n",
    "plt.figure('Loi de Mariotte', figsize=(14,10))    # Initialise la figure\n",
    "plt.title('Loi de Mariotte', fontsize = 18)       # Titre du graphe\n",
    "plt.xlabel('$1/V (m^{-3})$', fontsize = 16)       # Label de l’axe des abscisses\n",
    "plt.ylabel('P (Pa)', fontsize = 16)               # Label de l’axe des ordonnées\n",
    "ax=plt.gca()\n",
    "ax.spines['right'].set_color('none')\n",
    "ax.spines['top'].set_color('none')\n",
    "plt.xticks(fontsize=14)\n",
    "plt.ticklabel_format(axis='x', style='scientific', scilimits=(-1,2))\n",
    "plt.ticklabel_format(axis='y', style='scientific', scilimits=(-1,2))\n",
    "plt.yticks(fontsize=14)  \n",
    "Modele = linregress(inv_V, P)\n",
    "m, p = Modele[0], Modele[1]    \n",
    "plt.plot(inv_V, P, 'r.', ms=14, label='Points expérimentaux') # Points expérimentaux\n",
    "plt.plot(inv_V,[m*iv+p for iv in inv_V], 'b--', label='Régression linéaire', lw=1)\n",
    "plt.errorbar(inv_V, P, xerr = U_invV, yerr = U_P, fmt = 'none', capsize = 2, ecolor = 'green', zorder = 1)\n",
    "plt.grid()                              \n",
    "plt.legend(fontsize=14)    \n",
    "plt.show()"
   ]
  },
  {
   "cell_type": "markdown",
   "metadata": {},
   "source": [
    "<div class = \"alert alert-success\">\n",
    "    \n",
    "Quelle droite a-t-on tracée?\n",
    "</div>"
   ]
  },
  {
   "cell_type": "markdown",
   "metadata": {},
   "source": [
    "**Votre réponse ici**"
   ]
  },
  {
   "cell_type": "code",
   "execution_count": null,
   "metadata": {},
   "outputs": [],
   "source": [
    "# Compléter pour afficher le coefficient directeur de la droite\n",
    "display(Math('m = {:.3f}~Pa.m^3'.format(...)))"
   ]
  },
  {
   "cell_type": "markdown",
   "metadata": {},
   "source": [
    "<div class = \"alert alert-success\">\n",
    "    \n",
    "Quel est le coefficient directeur de cette droite ?\n",
    "</div>"
   ]
  },
  {
   "cell_type": "markdown",
   "metadata": {},
   "source": [
    "**Votre réponse ici**"
   ]
  },
  {
   "cell_type": "markdown",
   "metadata": {},
   "source": [
    "<div class = \"alert alert-success\">\n",
    "    \n",
    "Sachant que la droite passe par l’origine, donner son équation.\n",
    "</div>"
   ]
  },
  {
   "cell_type": "markdown",
   "metadata": {
    "tags": []
   },
   "source": [
    "**Votre réponse ici**"
   ]
  },
  {
   "cell_type": "markdown",
   "metadata": {},
   "source": [
    "## Questions\n",
    "\n",
    "<div class = \"alert alert-success\">\n",
    "    \n",
    "Exprimer le produit $P \\times V$\n",
    "</div>"
   ]
  },
  {
   "cell_type": "markdown",
   "metadata": {
    "tags": []
   },
   "source": [
    "**Votre réponse ici**\n"
   ]
  },
  {
   "cell_type": "markdown",
   "metadata": {},
   "source": [
    "<div class = \"alert alert-success\">\n",
    "    \n",
    "En déduire la loi de Mariotte.\n",
    "</div>"
   ]
  },
  {
   "cell_type": "markdown",
   "metadata": {},
   "source": [
    "**Votre réponse ici**"
   ]
  },
  {
   "cell_type": "markdown",
   "metadata": {},
   "source": [
    "## Pour aller plus loin\n",
    "\n",
    "<div class = \"alert alert-info\">\n",
    "    \n",
    "- A l’aide de la première cellule du notebook `loi_mariotte_mesures.ipynb` (`Détermination de k`), en gardant le piston de la seringue immobile, poser la paume de la main sur le cylindre pour chauffer l'air qu'il contient.\n",
    "\n",
    "- En effectuant plusieurs mesures, observer comment évolue la pression.\n",
    "</div>\n",
    "\n",
    "Cette expérience prouve que la constante dépend d'un paramètre au moins. Lequel ?"
   ]
  },
  {
   "cell_type": "markdown",
   "metadata": {},
   "source": [
    "**Votre réponse ici**"
   ]
  }
 ],
 "metadata": {
  "celltoolbar": "Format de la Cellule Texte Brut",
  "kernelspec": {
   "display_name": "Python 3",
   "language": "python",
   "name": "python3"
  },
  "language_info": {
   "codemirror_mode": {
    "name": "ipython",
    "version": 3
   },
   "file_extension": ".py",
   "mimetype": "text/x-python",
   "name": "python",
   "nbconvert_exporter": "python",
   "pygments_lexer": "ipython3",
   "version": "3.7.3"
  }
 },
 "nbformat": 4,
 "nbformat_minor": 4
}
