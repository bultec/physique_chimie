{
  "nbformat": 4,
  "nbformat_minor": 0,
  "metadata": {
    "colab": {
      "provenance": []
    },
    "kernelspec": {
      "name": "python3",
      "display_name": "Python 3"
    },
    "language_info": {
      "name": "python"
    },
    "widgets": {
      "application/vnd.jupyter.widget-state+json": {
        "9939db2a989a460ebdebafe3d75613f9": {
          "model_module": "anywidget",
          "model_name": "AnyModel",
          "model_module_version": "~0.9.*",
          "state": {
            "_anywidget_id": "__main__.ExampleWidget",
            "_css": "\n    .custom-widget {\n        background-color: lightseagreen;\n        padding: 0px 2px;\n    }\n    ",
            "_dom_classes": [],
            "_esm": "\n    export function render({ model, el }) {\n        el.classList.add(\"custom-widget\");\n        function valueChanged() {\n            el.textContent = model.get(\"value\");\n        }\n        valueChanged();\n        model.on(\"change:value\", valueChanged);\n    }\n    ",
            "_model_module": "anywidget",
            "_model_module_version": "~0.9.*",
            "_model_name": "AnyModel",
            "_view_count": null,
            "_view_module": "anywidget",
            "_view_module_version": "~0.9.*",
            "_view_name": "AnyView",
            "layout": "IPY_MODEL_599a525db3aa47dc8e9236c2cecda0eb",
            "value": "Hello World"
          }
        },
        "599a525db3aa47dc8e9236c2cecda0eb": {
          "model_module": "@jupyter-widgets/base",
          "model_name": "LayoutModel",
          "model_module_version": "1.2.0",
          "state": {
            "_model_module": "@jupyter-widgets/base",
            "_model_module_version": "1.2.0",
            "_model_name": "LayoutModel",
            "_view_count": null,
            "_view_module": "@jupyter-widgets/base",
            "_view_module_version": "1.2.0",
            "_view_name": "LayoutView",
            "align_content": null,
            "align_items": null,
            "align_self": null,
            "border": null,
            "bottom": null,
            "display": null,
            "flex": null,
            "flex_flow": null,
            "grid_area": null,
            "grid_auto_columns": null,
            "grid_auto_flow": null,
            "grid_auto_rows": null,
            "grid_column": null,
            "grid_gap": null,
            "grid_row": null,
            "grid_template_areas": null,
            "grid_template_columns": null,
            "grid_template_rows": null,
            "height": null,
            "justify_content": null,
            "justify_items": null,
            "left": null,
            "margin": null,
            "max_height": null,
            "max_width": null,
            "min_height": null,
            "min_width": null,
            "object_fit": null,
            "object_position": null,
            "order": null,
            "overflow": null,
            "overflow_x": null,
            "overflow_y": null,
            "padding": null,
            "right": null,
            "top": null,
            "visibility": null,
            "width": null
          }
        },
        "679136dfa91a4eeda5ee7824c3181b3e": {
          "model_module": "anywidget",
          "model_name": "AnyModel",
          "model_module_version": "~0.9.*",
          "state": {
            "_anywidget_id": "__main__.CounterWidget",
            "_css": "\n    .counter-widget button { background-color: #ea580c; }\n    .counter-widget button:hover { background-color: #9a3412; }\n    ",
            "_dom_classes": [],
            "_esm": "\n    function render({ model, el }) {\n      let button = document.createElement(\"button\");\n      button.innerHTML = `count is ${model.get(\"value\")}`;\n      button.addEventListener(\"click\", () => {\n        model.set(\"value\", model.get(\"value\") + 1);\n        model.save_changes();\n      });\n      model.on(\"change:value\", () => {\n        button.innerHTML = `count is ${model.get(\"value\")}`;\n      });\n      el.classList.add(\"counter-widget\");\n      el.appendChild(button);\n    }\n    export default { render };\n    ",
            "_model_module": "anywidget",
            "_model_module_version": "~0.9.*",
            "_model_name": "AnyModel",
            "_view_count": null,
            "_view_module": "anywidget",
            "_view_module_version": "~0.9.*",
            "_view_name": "AnyView",
            "layout": "IPY_MODEL_c9c88de66267465aa71f3b50a692114f",
            "value": 49
          }
        },
        "c9c88de66267465aa71f3b50a692114f": {
          "model_module": "@jupyter-widgets/base",
          "model_name": "LayoutModel",
          "model_module_version": "1.2.0",
          "state": {
            "_model_module": "@jupyter-widgets/base",
            "_model_module_version": "1.2.0",
            "_model_name": "LayoutModel",
            "_view_count": null,
            "_view_module": "@jupyter-widgets/base",
            "_view_module_version": "1.2.0",
            "_view_name": "LayoutView",
            "align_content": null,
            "align_items": null,
            "align_self": null,
            "border": null,
            "bottom": null,
            "display": null,
            "flex": null,
            "flex_flow": null,
            "grid_area": null,
            "grid_auto_columns": null,
            "grid_auto_flow": null,
            "grid_auto_rows": null,
            "grid_column": null,
            "grid_gap": null,
            "grid_row": null,
            "grid_template_areas": null,
            "grid_template_columns": null,
            "grid_template_rows": null,
            "height": null,
            "justify_content": null,
            "justify_items": null,
            "left": null,
            "margin": null,
            "max_height": null,
            "max_width": null,
            "min_height": null,
            "min_width": null,
            "object_fit": null,
            "object_position": null,
            "order": null,
            "overflow": null,
            "overflow_x": null,
            "overflow_y": null,
            "padding": null,
            "right": null,
            "top": null,
            "visibility": null,
            "width": null
          }
        }
      }
    }
  },
  "cells": [
    {
      "cell_type": "code",
      "execution_count": 2,
      "metadata": {
        "id": "pEa7feJiz92e"
      },
      "outputs": [],
      "source": [
        "%%capture\n",
        "! pip install \"anywidget[dev]\""
      ]
    },
    {
      "cell_type": "code",
      "source": [
        "import anywidget\n",
        "import traitlets\n",
        "\n",
        "class ExampleWidget(anywidget.AnyWidget):\n",
        "    _esm = \"\"\"\n",
        "    export function render({ model, el }) {\n",
        "        el.classList.add(\"custom-widget\");\n",
        "        function valueChanged() {\n",
        "            el.textContent = model.get(\"value\");\n",
        "        }\n",
        "        valueChanged();\n",
        "        model.on(\"change:value\", valueChanged);\n",
        "    }\n",
        "    \"\"\"\n",
        "    _css = \"\"\"\n",
        "    .custom-widget {\n",
        "        background-color: lightseagreen;\n",
        "        padding: 0px 2px;\n",
        "    }\n",
        "    \"\"\"\n",
        "    value = traitlets.Unicode(\"Hello World\").tag(sync=True)\n",
        "\n",
        "ExampleWidget()"
      ],
      "metadata": {
        "colab": {
          "base_uri": "https://localhost:8080/",
          "height": 34,
          "referenced_widgets": [
            "9939db2a989a460ebdebafe3d75613f9",
            "599a525db3aa47dc8e9236c2cecda0eb"
          ]
        },
        "id": "bskID5rF0XQT",
        "outputId": "78d17f41-d0ce-4e13-f162-ce467e59d49e"
      },
      "execution_count": 3,
      "outputs": [
        {
          "output_type": "display_data",
          "data": {
            "text/plain": [
              "ExampleWidget()"
            ],
            "application/vnd.jupyter.widget-view+json": {
              "version_major": 2,
              "version_minor": 0,
              "model_id": "9939db2a989a460ebdebafe3d75613f9"
            }
          },
          "metadata": {
            "application/vnd.jupyter.widget-view+json": {
              "colab": {
                "custom_widget_manager": {
                  "url": "https://ssl.gstatic.com/colaboratory-static/widgets/colab-cdn-widget-manager/2b70e893a8ba7c0f/manager.min.js"
                }
              }
            }
          }
        }
      ]
    },
    {
      "cell_type": "code",
      "source": [
        "import anywidget\n",
        "import traitlets\n",
        "\n",
        "class CounterWidget(anywidget.AnyWidget):\n",
        "    _esm = \"\"\"\n",
        "    function render({ model, el }) {\n",
        "      let button = document.createElement(\"button\");\n",
        "      button.innerHTML = `count is ${model.get(\"value\")}`;\n",
        "      button.addEventListener(\"click\", () => {\n",
        "        model.set(\"value\", model.get(\"value\") + 1);\n",
        "        model.save_changes();\n",
        "      });\n",
        "      model.on(\"change:value\", () => {\n",
        "        button.innerHTML = `count is ${model.get(\"value\")}`;\n",
        "      });\n",
        "      el.classList.add(\"counter-widget\");\n",
        "      el.appendChild(button);\n",
        "    }\n",
        "    export default { render };\n",
        "    \"\"\"\n",
        "    _css = \"\"\"\n",
        "    .counter-widget button { background-color: #ea580c; }\n",
        "    .counter-widget button:hover { background-color: #9a3412; }\n",
        "    \"\"\"\n",
        "    value = traitlets.Int(0).tag(sync=True)\n",
        "\n",
        "CounterWidget(value=42)"
      ],
      "metadata": {
        "colab": {
          "base_uri": "https://localhost:8080/",
          "height": 38,
          "referenced_widgets": [
            "679136dfa91a4eeda5ee7824c3181b3e",
            "c9c88de66267465aa71f3b50a692114f"
          ]
        },
        "id": "y0b-ubwH0rSJ",
        "outputId": "8cf3ea3a-484a-480f-9d03-73332aeaad21"
      },
      "execution_count": 5,
      "outputs": [
        {
          "output_type": "display_data",
          "data": {
            "text/plain": [
              "CounterWidget(value=42)"
            ],
            "application/vnd.jupyter.widget-view+json": {
              "version_major": 2,
              "version_minor": 0,
              "model_id": "679136dfa91a4eeda5ee7824c3181b3e"
            }
          },
          "metadata": {
            "application/vnd.jupyter.widget-view+json": {
              "colab": {
                "custom_widget_manager": {
                  "url": "https://ssl.gstatic.com/colaboratory-static/widgets/colab-cdn-widget-manager/2b70e893a8ba7c0f/manager.min.js"
                }
              }
            }
          }
        }
      ]
    }
  ]
}